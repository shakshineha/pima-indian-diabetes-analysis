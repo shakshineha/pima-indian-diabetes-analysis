{
  "nbformat": 4,
  "nbformat_minor": 0,
  "metadata": {
    "colab": {
      "name": "Nisha.ipynb",
      "provenance": [],
      "authorship_tag": "ABX9TyPyZrqp6rElRHBJ2Nqw7q/C",
      "include_colab_link": true
    },
    "kernelspec": {
      "name": "python3",
      "display_name": "Python 3"
    }
  },
  "cells": [
    {
      "cell_type": "markdown",
      "metadata": {
        "id": "view-in-github",
        "colab_type": "text"
      },
      "source": [
        "<a href=\"https://colab.research.google.com/github/shakshineha/pima-indian-diabetes-analysis/blob/master/Sorting_Techniques_in_Python.ipynb\" target=\"_parent\"><img src=\"https://colab.research.google.com/assets/colab-badge.svg\" alt=\"Open In Colab\"/></a>"
      ]
    },
    {
      "cell_type": "code",
      "metadata": {
        "id": "N6yN16KmjG2u",
        "colab_type": "code",
        "colab": {}
      },
      "source": [
        "def selectionsort(li):\n",
        "\n",
        "  length=len(li)\n",
        "  for i in range(length-1):\n",
        "    minindex=i\n",
        "    for j in range(i+1,length):\n",
        "      if li[j]<li[minindex]:\n",
        "        minindex=j\n",
        "        li[i],li[minindex]=li[minindex],li[i]\n",
        "  return li      "
      ],
      "execution_count": 0,
      "outputs": []
    },
    {
      "cell_type": "code",
      "metadata": {
        "id": "9Ls82rPXjHwm",
        "colab_type": "code",
        "colab": {}
      },
      "source": [
        "def insertionsort(li):\n",
        "    for i in range(len(li)):\n",
        "        j=i-1\n",
        "        while(j>0 and li[j]>temp):\n",
        "            temp=li[i]\n",
        "            li[i]=li[i+1]\n",
        "            li[j]=temp\n",
        "    return li        "
      ],
      "execution_count": 0,
      "outputs": []
    },
    {
      "cell_type": "code",
      "metadata": {
        "id": "UPOZ-Vx_jPFT",
        "colab_type": "code",
        "colab": {}
      },
      "source": [
        "def bubblesort(li):\n",
        "    for i in range(len(li)-1):    #kitne rounds hnge\n",
        "        for j in range(len(li)-1-i):         #loop khn tk chlega ek round min\n",
        "            if li[i]>li[i+1]:\n",
        "                li[i],li[i+1]=li[i+1],li[i]\n",
        "    return li"
      ],
      "execution_count": 0,
      "outputs": []
    },
    {
      "cell_type": "code",
      "metadata": {
        "id": "wxTsuTQkjWnW",
        "colab_type": "code",
        "colab": {}
      },
      "source": [
        "def partition(li,si,ei):\n",
        "    count=0\n",
        "    pivot=A[si]\n",
        "    for i in range(si,ei+1):\n",
        "            if li[i]<pivot:\n",
        "                count=count+1\n",
        "    li[si],li[si+count]=li[si+count],li[si]\n",
        "    pivotindex=si+count\n",
        "    i=si\n",
        "    j=ei\n",
        "    while i<j:\n",
        "        if li[i]<pivot:\n",
        "            i=i+1\n",
        "        elif li[j]>pivot:\n",
        "            j=j-1\n",
        "        else:\n",
        "            li[i],li[j]=li[j],li[i]\n",
        "            i=i+1\n",
        "            j=j-1\n",
        "        return pivotindex   "
      ],
      "execution_count": 0,
      "outputs": []
    },
    {
      "cell_type": "code",
      "metadata": {
        "id": "N7_UPufbjc_l",
        "colab_type": "code",
        "colab": {}
      },
      "source": [
        "def quicksort(li,si,ei):\n",
        "    if si>=ei:\n",
        "        return\n",
        "    pivotindex=partition(li,si,ei)\n",
        "    quicksort(li,si,pivotindex-1)\n",
        "    quicksort(li,pivotindex+1,ei)\n",
        "    return li"
      ],
      "execution_count": 0,
      "outputs": []
    },
    {
      "cell_type": "code",
      "metadata": {
        "id": "4xllIYLojgWV",
        "colab_type": "code",
        "colab": {}
      },
      "source": [
        "def merge(s1,s2,li):\n",
        "    i=0\n",
        "    j=0\n",
        "    k=0\n",
        "    while(i<len(s1)) and (j<len(s2)):\n",
        "        if s1[i]<s2[j]:\n",
        "            li[k]=s1[i]\n",
        "            i=i+1\n",
        "            k=k+1\n",
        "        else:\n",
        "            li[k]=s2[j]\n",
        "            j=j+1\n",
        "            k=k+1\n",
        "    while(i<len(s1)):\n",
        "            li[k]=s1[i]\n",
        "            i=i+1\n",
        "            k=k+1\n",
        "    while(j<len(s2)):\n",
        "            li[k]=s2[j]\n",
        "            j=j+1\n",
        "            k=k+1"
      ],
      "execution_count": 0,
      "outputs": []
    },
    {
      "cell_type": "code",
      "metadata": {
        "id": "8CKOCvqHjjs4",
        "colab_type": "code",
        "colab": {}
      },
      "source": [
        "def mergesort(li):\n",
        "    l=len(li)\n",
        "    if l==0 or l==1:\n",
        "        return \n",
        "    mid=l//2\n",
        "    s1=li[0:mid]\n",
        "    s2=li[mid:]\n",
        "    mergesort(s1)\n",
        "    mergesort(s2)\n",
        "    merge(s1,s2,li)\n",
        "    return li"
      ],
      "execution_count": 0,
      "outputs": []
    },
    {
      "cell_type": "code",
      "metadata": {
        "id": "FqZM7i_Ajm3A",
        "colab_type": "code",
        "colab": {
          "base_uri": "https://localhost:8080/",
          "height": 136
        },
        "outputId": "b42cfc79-d899-4740-9e55-95f88267811d"
      },
      "source": [
        "print(\"Which sorting technique u want to use?\")\n",
        "print(\"Enter 1 for selection sort\")\n",
        "print(\"Enter 2 for insertion sort\")\n",
        "print(\"Enter 3 for bubble sort\")\n",
        "print(\"Enter 4 for quick sort\")\n",
        "print(\"Enter 5 for merge sort\")\n",
        "n=int(input())"
      ],
      "execution_count": 27,
      "outputs": [
        {
          "output_type": "stream",
          "text": [
            "Which sorting technique u want to use?\n",
            "Enter 1 for selection sort\n",
            "Enter 2 for insertion sort\n",
            "Enter 3 for bubble sort\n",
            "Enter 4 for quick sort\n",
            "Enter 5 for merge sort\n",
            "3\n"
          ],
          "name": "stdout"
        }
      ]
    },
    {
      "cell_type": "code",
      "metadata": {
        "id": "mJwkp4TEjwRX",
        "colab_type": "code",
        "colab": {
          "base_uri": "https://localhost:8080/",
          "height": 119
        },
        "outputId": "ed8cbdca-890f-4ddf-8250-11f208b3d6fa"
      },
      "source": [
        "lst = [] \n",
        "  \n",
        "n = int(input(\"Enter number of elements : \")) \n",
        "  \n",
        "for i in range(0, n): \n",
        "    element = int(input()) \n",
        "    lst.append(element) \n",
        "\n",
        "#print(lst) "
      ],
      "execution_count": 28,
      "outputs": [
        {
          "output_type": "stream",
          "text": [
            "Enter number of elements : 5\n",
            "1\n",
            "2\n",
            "5\n",
            "4\n",
            "3\n"
          ],
          "name": "stdout"
        }
      ]
    },
    {
      "cell_type": "code",
      "metadata": {
        "id": "9F1ujlXkj0ki",
        "colab_type": "code",
        "colab": {
          "base_uri": "https://localhost:8080/",
          "height": 34
        },
        "outputId": "44eeeed6-b601-4c40-d2a5-8ef322777683"
      },
      "source": [
        "if n==1:\n",
        "  res=selectionsort(lst)\n",
        "elif n==2:\n",
        "  res=insertionsort(lst)\n",
        "elif n==3:\n",
        "  res=bubblesort(lst)\n",
        "elif n==4:\n",
        "  res=quicksort(lst)\n",
        "elif n==5:\n",
        "  res=mergesort(lst)\n",
        "print(res)"
      ],
      "execution_count": 33,
      "outputs": [
        {
          "output_type": "stream",
          "text": [
            "[1, 2, 3, 4, 5]\n"
          ],
          "name": "stdout"
        }
      ]
    },
    {
      "cell_type": "code",
      "metadata": {
        "id": "-iafBgz2j9r0",
        "colab_type": "code",
        "colab": {}
      },
      "source": [
        ""
      ],
      "execution_count": 0,
      "outputs": []
    }
  ]
}